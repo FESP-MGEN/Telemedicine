{
 "cells": [
  {
   "cell_type": "code",
   "execution_count": null,
   "metadata": {},
   "outputs": [],
   "source": [
    "#####################################################################################################\n",
    "#####################################################################################################\n",
    "# 3_Descriptive analyses\n",
    "#####################################################################################################\n",
    "#####################################################################################################"
   ]
  },
  {
   "cell_type": "code",
   "execution_count": null,
   "metadata": {},
   "outputs": [],
   "source": [
    "import numpy as np\n",
    "import pandas as pd\n",
    "from os import path\n",
    "from PIL import Image\n",
    "from wordcloud import WordCloud, STOPWORDS, ImageColorGenerator\n",
    "import nltk # Text management\n",
    "import matplotlib.pyplot as plt"
   ]
  },
  {
   "cell_type": "code",
   "execution_count": null,
   "metadata": {},
   "outputs": [],
   "source": [
    "# Launch the \"import and cleaning abstracts\" program\n",
    "%run \"C:\\\\Users\\\\....\\\\Program\\\\2_Import and cleaning abstracts.ipynb\"\n"
   ]
  },
  {
   "cell_type": "code",
   "execution_count": null,
   "metadata": {},
   "outputs": [],
   "source": [
    "# Selection of abstracts retained at the last creaming\n",
    "selection=id_excel['Selection'].values.tolist()\n",
    "articles_sel=articles_vf[articles_vf.Selection == 1]\n",
    "abstract_retenu=articles_sel['Abstract'].values.tolist()\n",
    "\n",
    "abstract_tot=articles_vf['Abstract'].values.tolist()\n",
    "\n",
    "# Creation of a unique character string which contains all the abstracts cleaned afterwards\n",
    "str_abstr=''\n",
    "for a in abstract_tot:\n",
    "    str_abstr=str_abstr+str(a)\n",
    "    \n",
    "# Creation of a word list of all abstracts\n",
    "liste_mot_tot=str_abstr.split()\n",
    "\n",
    "# Similarly with the abstracts selected only\n",
    "str_abstr_retenu=''\n",
    "for a in abstract_retenu:\n",
    "    str_abstr_retenu=str_abstr_retenu+str(a)\n",
    "liste_mot_retenu=str_abstr_retenu.split()\n"
   ]
  },
  {
   "cell_type": "code",
   "execution_count": null,
   "metadata": {},
   "outputs": [],
   "source": [
    "# Word frequency calculation and export to Excel files\n",
    "\n",
    "# Single word\n",
    "fdtot = nltk.FreqDist(liste_mot_tot)\n",
    "fdret = nltk.FreqDist(liste_mot_retenu)\n",
    "\n",
    "# Bigram \n",
    "fd_bi_tot = nltk.FreqDist(nltk.bigrams(liste_mot_tot))\n",
    "fd_bi_ret = nltk.FreqDist(nltk.bigrams(liste_mot_retenu))\n",
    "\n",
    "# Trigram\n",
    "fd_tri_tot = nltk.FreqDist(nltk.trigrams(liste_mot_tot))\n",
    "fd_tri_ret = nltk.FreqDist(nltk.trigrams(liste_mot_retenu))\n",
    "\n",
    "# Transformation of the generated list into dataframe\n",
    "df_tot = pd.DataFrame.from_dict (fdtot.most_common(150))\n",
    "df2_tot = pd.DataFrame.from_dict (fd_bi_tot.most_common(150))\n",
    "df3_tot = pd.DataFrame.from_dict (fd_tri_tot.most_common(150))\n",
    "\n",
    "df_ret = pd.DataFrame.from_dict (fdret.most_common(150))\n",
    "df2_ret = pd.DataFrame.from_dict (fd_bi_ret.most_common(150))\n",
    "df3_ret = pd.DataFrame.from_dict (fd_tri_ret.most_common(150))\n",
    "\n",
    "with pd.ExcelWriter('freq_mots_nuage_tot.xlsx') as writer:  \n",
    "    df_tot.to_excel(writer,sheet_name='mots')\n",
    "    df2_tot.to_excel(writer, sheet_name='bi_gram')\n",
    "    df3_tot.to_excel(writer, sheet_name='tri_gram')\n",
    "\n",
    "with pd.ExcelWriter('freq_mots_nuage_tot_selec.xlsx') as writer:  \n",
    "    df_ret.to_excel(writer,sheet_name='mots')\n",
    "    df2_ret.to_excel(writer, sheet_name='bi_gram')\n",
    "    df3_ret.to_excel(writer, sheet_name='tri_gram')\n",
    "    "
   ]
  },
  {
   "cell_type": "code",
   "execution_count": null,
   "metadata": {},
   "outputs": [],
   "source": [
    "# Save images\n",
    "\n",
    "# On all the abstracts\n",
    "W1=wordcloud(liste_mot_tot, 100, 'RdBu')\n",
    "W1.to_file(\"C:\\\\Users\\\\....\\\\Result\\\\nuage_tot_word.png\")\n",
    "\n",
    "W2=wordcloud_bigram(liste_mot_tot, 50, 'RdBu')\n",
    "W2.to_file(\"C:\\\\Users\\\\....\\\\Result\\\\nuage_tot_bi.png\")\n",
    "\n",
    "W3=wordcloud_trigram(liste_mot_tot, 35, 'RdBu')\n",
    "W3.to_file(\"C:\\\\Users\\\\....\\\\Result\\\\nuage_tot_tri.png\")\n",
    "\n",
    "# On the items selected at the last skimming\n",
    "W4=wordcloud(liste_mot_retenu, 100, 'RdBu')\n",
    "W4.to_file(\"C:\\\\Users\\\\....\\\\Result\\\\nuage_sel_word.png\")\n",
    "\n",
    "W5=wordcloud_bigram(liste_mot_retenu, 50, 'RdBu')\n",
    "W5.to_file(\"C:\\\\Users\\\\....\\\\Result\\\\nuage_sel_bi.png\")\n",
    "\n",
    "W6=wordcloud_trigram(liste_mot_retenu, 35, 'RdBu')\n",
    "W6.to_file(\"C:\\\\Users\\\\....\\\\Result\\\\nuage_sel_tri.png\")\n"
   ]
  }
 ],
 "metadata": {
  "kernelspec": {
   "display_name": "Python 3",
   "language": "python",
   "name": "python3"
  },
  "language_info": {
   "codemirror_mode": {
    "name": "ipython",
    "version": 3
   },
   "file_extension": ".py",
   "mimetype": "text/x-python",
   "name": "python",
   "nbconvert_exporter": "python",
   "pygments_lexer": "ipython3",
   "version": "3.7.4"
  }
 },
 "nbformat": 4,
 "nbformat_minor": 2
}
