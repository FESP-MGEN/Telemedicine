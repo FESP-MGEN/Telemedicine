{
 "cells": [
  {
   "cell_type": "code",
   "execution_count": null,
   "metadata": {},
   "outputs": [],
   "source": [
    "#####################################################################################################\n",
    "#####################################################################################################\n",
    "# 7_Sentiment analysis with NLTK method\n",
    "#####################################################################################################\n",
    "#####################################################################################################"
   ]
  },
  {
   "cell_type": "code",
   "execution_count": null,
   "metadata": {},
   "outputs": [],
   "source": [
    "# Import packages for graphics\n",
    "import matplotlib.pyplot as plt\n",
    "import seaborn as sns\n",
    "import numpy as np\n",
    "import nltk\n",
    "nltk.download('vader_lexicon')"
   ]
  },
  {
   "cell_type": "code",
   "execution_count": null,
   "metadata": {},
   "outputs": [],
   "source": [
    "# Launched the programm \n",
    "%run \"C:\\\\Users\\\\....\\\\Program\\\\2_Import and cleaning abstracts.ipynb\"\n"
   ]
  },
  {
   "cell_type": "code",
   "execution_count": null,
   "metadata": {},
   "outputs": [],
   "source": [
    "# Change column names\n",
    "articles_vf.columns = ['Identifier','Abstract','Selection']\n",
    "\n",
    "# Keep only abstract selected manually\n",
    "articles_vf=articles_vf[articles_vf.Selection != 0]\n",
    "del articles_vf['Selection']\n",
    "\n",
    "# Keep and save identifier for a next use\n",
    "Identifier_list=list(articles_vf['Identifier'])\n",
    "\n",
    "# Formating data for analysis sentiment with NLTK\n",
    "articles_vf['ID_abstract'] = articles_vf['Identifier'] + \" \" + articles_vf['Abstract']\n",
    "del articles_vf['Identifier']\n",
    "del articles_vf['Abstract']\n",
    "\n",
    "Abstract_list=list(articles_vf.values.flatten())\n"
   ]
  },
  {
   "cell_type": "code",
   "execution_count": null,
   "metadata": {},
   "outputs": [],
   "source": [
    "# Function for sentiment analysis with NLTK\n",
    "def nltk_sentiment(text):\n",
    "    from nltk.sentiment.vader import SentimentIntensityAnalyzer    \n",
    "    nltk_sentiment = SentimentIntensityAnalyzer()\n",
    "    score = nltk_sentiment.polarity_scores(text)\n",
    "    return score\n",
    "\n",
    "nltk_results = [nltk_sentiment(row) for row in Abstract_list]\n",
    "results_df = pd.DataFrame(nltk_results)\n",
    "text_df = pd.DataFrame(Abstract_list, columns = ['Abstract'])\n",
    "nltk_df = text_df.join(results_df)\n",
    "\n",
    "# Export the NLTK result (Identifier, Abstract and NLTK indicators)\n",
    "nltk_df.to_excel (r'C:\\\\Users\\\\....\\\\Result\\\\nltk_result.xlsx', index = False, header=True)\n",
    "\n",
    "# Data formating for graphics\n",
    "value_list = []\n",
    "\n",
    "for val in nltk_results:\n",
    "    list_values = [v for v in val.values()]\n",
    "    value_list.append(list_values)\n",
    "    "
   ]
  },
  {
   "cell_type": "code",
   "execution_count": null,
   "metadata": {},
   "outputs": [],
   "source": [
    "# Transform the dataframe\n",
    "NLTK_base=pd.DataFrame(value_list)\n",
    "\n",
    "# Change column names\n",
    "NLTK_base.columns  = ['Negative', 'Neutral','Positive','Compound']\n",
    "\n",
    "# Add the identifier column previously isolated\n",
    "NLTK_base[\"ID_Abstract\"] = Identifier_list\n"
   ]
  },
  {
   "cell_type": "code",
   "execution_count": null,
   "metadata": {},
   "outputs": [],
   "source": [
    "# First Graphic\n",
    "\n",
    "G1_NLTK=sns.scatterplot(x=\"Compound\", y=\"Positive\", data=NLTK_base, color=['purple'])\n",
    "\n",
    "plt.xticks(np.arange(-1, 1.1, 0.2))   \n",
    "plt.yticks(np.arange(-0.5, 0.6, 0.2)) \n",
    " \n",
    "plt.tick_params(labelcolor='dimgrey', labelsize='medium') \n",
    "    \n",
    "plt.title('Sentiment analysis with NLTK', color='dimgrey',fontsize=14)\n",
    "plt.xlabel('<------------   Compound   ------------>', color='dimgrey', fontsize=12)\n",
    "plt.ylabel('<------------   Positive   ------------>', color='dimgrey',fontsize=12)\n",
    "\n",
    "plt.rcParams['figure.figsize'] = [12,10]\n",
    "\n",
    "# Print the plot\n",
    "plt.show() \n",
    "\n",
    "# Save the plot\n",
    "fig = G1_NLTK.get_figure()\n",
    "fig.savefig(\"C:\\\\Users\\\\....\\\\Result\\\\Graph_NLTK_1.png\")\n"
   ]
  },
  {
   "cell_type": "code",
   "execution_count": null,
   "metadata": {},
   "outputs": [],
   "source": [
    "# Second Graphic\n",
    "\n",
    "G2_NLTK=sns.scatterplot(x=\"Compound\", y=\"Negative\", data=NLTK_base, color=['purple'])\n",
    "\n",
    "plt.xticks(np.arange(-1,1.1, 0.2)) \n",
    "plt.yticks(np.arange(0,0.6, 0.2))  \n",
    " \n",
    "plt.tick_params(labelcolor='dimgrey', labelsize='medium')\n",
    "    \n",
    "plt.title('Sentiment analysis with NLTK', color='dimgrey',fontsize=14)\n",
    "plt.xlabel('<------------   Compound   ------------>', color='dimgrey', fontsize=12)\n",
    "plt.ylabel('<------------   Negative   ------------>', color='dimgrey',fontsize=12)\n",
    "\n",
    "plt.rcParams['figure.figsize'] = [12,10]\n",
    "\n",
    "# Print the plot\n",
    "plt.show() \n",
    "\n",
    "# Save the plot  \n",
    "fig = G2_NLTK.get_figure()\n",
    "fig.savefig(\"C:\\\\Users\\\\....\\\\Result\\\\Graph_NLTK_2.png\")\n"
   ]
  },
  {
   "cell_type": "code",
   "execution_count": null,
   "metadata": {},
   "outputs": [],
   "source": [
    "# Third Graphic\n",
    "\n",
    "G3_NLTK=sns.scatterplot(x=\"Positive\", y=\"Negative\", data=NLTK_base, color=['purple'])\n",
    "\n",
    "plt.xticks(np.arange(0,0.6, 0.2))  \n",
    "plt.yticks(np.arange(0,0.6, 0.2))  \n",
    " \n",
    "plt.tick_params(labelcolor='dimgrey', labelsize='medium') \n",
    "    \n",
    "plt.title('Sentiment analysis with NLTK', color='dimgrey',fontsize=14)\n",
    "plt.xlabel('<------------   Positive   ------------>', color='dimgrey', fontsize=12)\n",
    "plt.ylabel('<------------   Negative   ------------>', color='dimgrey',fontsize=12)\n",
    "\n",
    "plt.rcParams['figure.figsize'] = [12,10]\n",
    "\n",
    "# Print the plot\n",
    "plt.show() \n",
    "\n",
    "# Save the plot\n",
    "fig = G3_NLTK.get_figure()\n",
    "fig.savefig(\"C:\\\\Users\\\\....\\\\Result\\\\Graph_NLTK_3.png\")\n"
   ]
  }
 ],
 "metadata": {
  "kernelspec": {
   "display_name": "Python 3",
   "language": "python",
   "name": "python3"
  },
  "language_info": {
   "codemirror_mode": {
    "name": "ipython",
    "version": 3
   },
   "file_extension": ".py",
   "mimetype": "text/x-python",
   "name": "python",
   "nbconvert_exporter": "python",
   "pygments_lexer": "ipython3",
   "version": "3.7.4"
  }
 },
 "nbformat": 4,
 "nbformat_minor": 2
}
