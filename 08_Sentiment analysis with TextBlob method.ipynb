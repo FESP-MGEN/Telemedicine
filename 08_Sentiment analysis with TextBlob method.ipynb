{
 "cells": [
  {
   "cell_type": "code",
   "execution_count": null,
   "metadata": {},
   "outputs": [],
   "source": [
    "#####################################################################################################\n",
    "#####################################################################################################\n",
    "# 8_Sentiment analysis with TextBlob method\n",
    "#####################################################################################################\n",
    "#####################################################################################################"
   ]
  },
  {
   "cell_type": "code",
   "execution_count": null,
   "metadata": {},
   "outputs": [],
   "source": [
    "# Import packages for graphics\n",
    "import matplotlib.pyplot as plt\n",
    "import seaborn as sns\n",
    "import numpy as np\n",
    "import pandas as pd"
   ]
  },
  {
   "cell_type": "code",
   "execution_count": null,
   "metadata": {},
   "outputs": [],
   "source": [
    "# Launched the programm \n",
    "%run \"C:\\\\Users\\\\....\\\\Program\\\\2_Import and cleaning abstracts.ipynb\"\n"
   ]
  },
  {
   "cell_type": "code",
   "execution_count": null,
   "metadata": {},
   "outputs": [],
   "source": [
    "# Change columns name\n",
    "articles_vf.columns = ['Identifier','Abstract','Selection']\n",
    "\n",
    "# Keep only abstract selected manually\n",
    "articles_vf=articles_vf[articles_vf.Selection != 0]\n",
    "del articles_vf['Selection']\n",
    "\n",
    "# Keep and save identifier for a next use\n",
    "Identifier_list=list(articles_vf['Identifier'])\n",
    "\n",
    "# Formating the data\n",
    "Abstract_list=articles_vf.values.tolist()\n",
    "Abstract_dict=dict(Abstract_list)\n"
   ]
  },
  {
   "cell_type": "code",
   "execution_count": null,
   "metadata": {},
   "outputs": [],
   "source": [
    "# Formating the data\n",
    "def combine_text(list_of_text):\n",
    "    combined_text = ''.join(list_of_text)\n",
    "    return combined_text\n",
    "\n",
    "All_data = {key: [combine_text(value)] for(key,value) in Abstract_dict.items()}\n",
    "\n",
    "TextBlob_base = pd.DataFrame.from_dict(All_data).transpose()\n",
    "TextBlob_base.columns = ['Abstract']\n",
    "\n",
    "# Add the identifier column previously isolated\n",
    "TextBlob_base[\"ID_Abstract\"] = Identifier_list\n"
   ]
  },
  {
   "cell_type": "code",
   "execution_count": null,
   "metadata": {},
   "outputs": [],
   "source": [
    "# Calculating indicators for sentiment analysis with TextBlob\n",
    "from textblob import TextBlob # (Download and install textblob-0.15.3-py2.py3-none-any.whl)\n",
    "\n",
    "pol = lambda x: TextBlob(x).sentiment.polarity\n",
    "sub = lambda x: TextBlob(x).sentiment.subjectivity\n",
    "\n",
    "TextBlob_base['Polarity'] = TextBlob_base ['Abstract'].apply(pol)\n",
    "TextBlob_base['Subjectivity'] = TextBlob_base ['Abstract'].apply(sub)\n"
   ]
  },
  {
   "cell_type": "code",
   "execution_count": null,
   "metadata": {},
   "outputs": [],
   "source": [
    "# Export the results\n",
    "TextBlob_base = TextBlob_base[['ID_Abstract','Polarity','Subjectivity','Abstract']]\n",
    "TextBlob_base.to_excel (r'C:\\\\Users\\\\....\\\\Result\\\\TextBlob_result.xlsx', index = False, header=True)\n"
   ]
  },
  {
   "cell_type": "code",
   "execution_count": null,
   "metadata": {},
   "outputs": [],
   "source": [
    "# First Graphic\n",
    "\n",
    "G_TextBlob=sns.scatterplot(x=\"Polarity\", y=\"Subjectivity\", data=TextBlob_base, color=['darkslateblue'])\n",
    "\n",
    "plt.xticks(np.arange(-1,1.1,0.2)) \n",
    "plt.yticks(np.arange(0,1.1,0.2))  \n",
    " \n",
    "plt.tick_params(labelcolor='dimgrey', labelsize='medium')\n",
    "    \n",
    "plt.title('Sentiment analysis with TextBlob', color='dimgrey',fontsize=14)\n",
    "plt.xlabel('<---------- Negativity ---------- Positivity ---------->', color='dimgrey', fontsize=12)\n",
    "plt.ylabel('<---------- Fact ---------- Opinion ---------->', color='dimgrey',fontsize=12)\n",
    "\n",
    "plt.rcParams['figure.figsize'] = [12,10]\n",
    "\n",
    "# Print the plot\n",
    "plt.show() \n",
    "\n",
    "# Save the plot\n",
    "fig = G_TextBlob.get_figure()\n",
    "fig.savefig(\"C:\\\\Users\\\\....\\\\Result\\\\Graph_TextBlob.png\")\n"
   ]
  }
 ],
 "metadata": {
  "kernelspec": {
   "display_name": "Python 3",
   "language": "python",
   "name": "python3"
  },
  "language_info": {
   "codemirror_mode": {
    "name": "ipython",
    "version": 3
   },
   "file_extension": ".py",
   "mimetype": "text/x-python",
   "name": "python",
   "nbconvert_exporter": "python",
   "pygments_lexer": "ipython3",
   "version": "3.7.4"
  }
 },
 "nbformat": 4,
 "nbformat_minor": 2
}
