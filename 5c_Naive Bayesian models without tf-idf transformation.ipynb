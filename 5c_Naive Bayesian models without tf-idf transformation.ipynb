{
 "cells": [
  {
   "cell_type": "code",
   "execution_count": 1,
   "metadata": {},
   "outputs": [],
   "source": [
    "#######################################################################################################################\n",
    "#######################################################################################################################\n",
    "# 5_c_Calculation of performance criteria with confidence interval: Naive Bayesian models without tf-idf transformation\n",
    "#######################################################################################################################\n",
    "#######################################################################################################################"
   ]
  },
  {
   "cell_type": "code",
   "execution_count": 2,
   "metadata": {},
   "outputs": [],
   "source": [
    "import os # File management\n",
    "import string # Character chain management\n",
    "import pandas # Import data into DataFrame\n",
    "from sklearn.model_selection import train_test_split # Selection abstract for learning corpus  \n",
    "from sklearn.feature_extraction.text import CountVectorizer # Matrix construction for learning\n",
    "from sklearn.linear_model import LogisticRegression # Logistic regression\n",
    "from sklearn import metrics # Confusion matrix\n",
    "from sklearn.metrics import f1_score\n",
    "from sklearn.metrics import fbeta_score\n",
    "from sklearn.feature_extraction.text import TfidfTransformer # For reverse function\n",
    "from sklearn.feature_extraction.text import TfidfVectorizer\n",
    "import numpy as np\n",
    "import pandas as pd\n",
    "import matplotlib.pyplot as plt\n",
    "from scipy import stats\n",
    "import seaborn as sns\n",
    "from sklearn.naive_bayes import MultinomialNB\n",
    "import numpy as np\n",
    "import pandas as pd\n",
    "import matplotlib.pyplot as plt\n",
    "from scipy import stats\n",
    "import seaborn as sns\n",
    "from math import sqrt"
   ]
  },
  {
   "cell_type": "code",
   "execution_count": 3,
   "metadata": {},
   "outputs": [],
   "source": [
    "# Launch the \"import and cleaning abstracts\" program\n",
    "%run \"C:\\\\Users\\\\....\\\\Program\\\\2_Import and cleaning abstracts.ipynb\"\n"
   ]
  },
  {
   "cell_type": "code",
   "execution_count": 5,
   "metadata": {},
   "outputs": [],
   "source": [
    "# Parameters which may vary: sample size, root, beta for F1\n",
    "###########################################################\n",
    "\n",
    "# We vary the sample size, then the root\n",
    "\n",
    "# Initialization of lists\n",
    "vrai_neg=[]\n",
    "faux_neg=[]\n",
    "vrai_pos=[]\n",
    "faux_pos=[]\n",
    "f1=[]\n",
    "f5=[]\n",
    "\n",
    "#### We use the Naive Bayesien model without tfidf transformation\n",
    "\n",
    "# Creation of a list with all the desired sample sizes\n",
    "echantillon=[0.05, 0.1, 0.15, 0.2, 0.3, 0.4, 0.5, 0.6, 0.7]\n",
    "\n",
    "for i in echantillon:\n",
    "\n",
    "    for r in range(1,100):\n",
    "        # Creation of the training sample (random_state = the seed of the random)\n",
    "        article_vf_Train,article_vf_Test=train_test_split(articles_vf,train_size=i,random_state=r,stratify=articles_vf['Selection'])\n",
    "\n",
    "        # Build the analyser with new options: stop_words = 'english' and min_df = 20\n",
    "        analyseurBis = CountVectorizer(ngram_range=(1,4), stop_words='english',binary=True, min_df=0.04)\n",
    "        \n",
    "        # Create the document term matrix\n",
    "        XTrain_bis = analyseurBis.fit_transform(article_vf_Train['Abstract'])\n",
    "        \n",
    "        # The matrix with the terms of the abstracts\n",
    "        mdtTrainBis = XTrain_bis.toarray()\n",
    "        \n",
    "    # Initialize the object\n",
    "        # Naive Bayesien\n",
    "        modelNB = MultinomialNB()\n",
    "       \n",
    "        # Model execution\n",
    "        modelNB.fit(mdtTrainBis,article_vf_Train['Selection'])\n",
    "        \n",
    "        # Evaluation on the test sample\n",
    "        mdtTestBis= analyseurBis.transform(article_vf_Test['Abstract'])\n",
    "        \n",
    "    # Prediction for abstract test data\n",
    "        # Naive Bayesien\n",
    "        predTestBis_NB= modelNB.predict(mdtTestBis)\n",
    "\n",
    "        # Confusion matrix\n",
    "        tn, fp, fn, tp = metrics.confusion_matrix(article_vf_Test['Selection'],predTestBis_NB).ravel()\n",
    "           \n",
    "        f1.append(fbeta_score(article_vf_Test['Selection'], predTestBis_NB, beta=1))\n",
    "        f5.append(fbeta_score(article_vf_Test['Selection'], predTestBis_NB, beta=5))\n",
    "        \n",
    "        vrai_neg.append(tn)\n",
    "        faux_pos.append(fp)\n",
    "        faux_neg.append(fn)\n",
    "        vrai_pos.append(tp)               \n"
   ]
  },
  {
   "cell_type": "code",
   "execution_count": 6,
   "metadata": {},
   "outputs": [],
   "source": [
    "# Transformation into dataframe and excel export\n",
    "df_vp=pd.DataFrame(np.array(vrai_pos).reshape(9,99))\n",
    "df_vpt=df_vp.T\n",
    "df_vn=pd.DataFrame(np.array(vrai_neg).reshape(9,99))\n",
    "df_vnt=df_vn.T\n",
    "df_fn=pd.DataFrame(np.array(faux_neg).reshape(9,99))\n",
    "df_fnt=df_fn.T\n",
    "df_fp=pd.DataFrame(np.array(faux_pos).reshape(9,99))\n",
    "df_fpt=df_fp.T\n",
    "\n",
    "with pd.ExcelWriter(r'C:\\\\Users\\\\....\\\\Result\\\\matrix_NB.xlsx') as writer:  \n",
    "    df_vpt.to_excel(writer, sheet_name=\"True positive\")\n",
    "    df_vnt.to_excel(writer, sheet_name=\"True negative\")\n",
    "    df_fnt.to_excel(writer, sheet_name=\"False negative\")\n",
    "    df_fpt.to_excel(writer, sheet_name=\"False positive\")\n"
   ]
  },
  {
   "cell_type": "code",
   "execution_count": 7,
   "metadata": {},
   "outputs": [],
   "source": [
    "# Transformation into dataframe and excel export\n",
    "df1 = pd.DataFrame(np.array(f1).reshape(9,99))\n",
    "\n",
    "df1t=df1.T\n",
    "df5 = pd.DataFrame(np.array(f5).reshape(9,99))\n",
    "\n",
    "df5t=df5.T\n",
    "\n",
    "with pd.ExcelWriter(r'C:\\\\Users\\\\....\\\\Result\\\\F1F5_NB.xlsx') as writer:  \n",
    "    df1t.to_excel(writer, sheet_name=\"F1\")\n",
    "    df5t.to_excel(writer, sheet_name=\"F5\")\n",
    "    "
   ]
  }
 ],
 "metadata": {
  "kernelspec": {
   "display_name": "Python 3",
   "language": "python",
   "name": "python3"
  },
  "language_info": {
   "codemirror_mode": {
    "name": "ipython",
    "version": 3
   },
   "file_extension": ".py",
   "mimetype": "text/x-python",
   "name": "python",
   "nbconvert_exporter": "python",
   "pygments_lexer": "ipython3",
   "version": "3.7.4"
  }
 },
 "nbformat": 4,
 "nbformat_minor": 2
}
