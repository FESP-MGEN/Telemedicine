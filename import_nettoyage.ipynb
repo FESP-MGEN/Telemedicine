{
 "cells": [
  {
   "cell_type": "code",
   "execution_count": 1,
   "metadata": {},
   "outputs": [
    {
     "ename": "AttributeError",
     "evalue": "'list' object has no attribute 'replace'",
     "output_type": "error",
     "traceback": [
      "\u001b[1;31m---------------------------------------------------------------------------\u001b[0m",
      "\u001b[1;31mAttributeError\u001b[0m                            Traceback (most recent call last)",
      "\u001b[1;32m<ipython-input-1-fbcd0c8f03b3>\u001b[0m in \u001b[0;36m<module>\u001b[1;34m\u001b[0m\n\u001b[0;32m     28\u001b[0m \u001b[0mabstract_tot\u001b[0m\u001b[1;33m=\u001b[0m\u001b[0mabstract_embase\u001b[0m\u001b[1;33m+\u001b[0m\u001b[0mabstract_coch\u001b[0m\u001b[1;33m+\u001b[0m\u001b[0mabstract_pub\u001b[0m\u001b[1;33m\u001b[0m\u001b[1;33m\u001b[0m\u001b[0m\n\u001b[0;32m     29\u001b[0m \u001b[1;33m\u001b[0m\u001b[0m\n\u001b[1;32m---> 30\u001b[1;33m \u001b[0mabstract_tot\u001b[0m\u001b[1;33m.\u001b[0m\u001b[0mreplace\u001b[0m\u001b[1;33m(\u001b[0m\u001b[1;34m\"cost effectiveness\"\u001b[0m\u001b[1;33m,\u001b[0m \u001b[1;34m\"cost-effectiveness\"\u001b[0m\u001b[1;33m)\u001b[0m\u001b[1;33m\u001b[0m\u001b[1;33m\u001b[0m\u001b[0m\n\u001b[0m",
      "\u001b[1;31mAttributeError\u001b[0m: 'list' object has no attribute 'replace'"
     ]
    }
   ],
   "source": [
    "import os #Gestion des fichiers\n",
    "import nltk #Gestion texte\n",
    "from nltk.corpus import stopwords #Stopwords\n",
    "import numpy #Opérations mathématiques\n",
    "import matplotlib #Graphiques\n",
    "import string #Gestion de chaine de caractère\n",
    "from nltk.tokenize import word_tokenize\n",
    "#from pandas import DataFrame\n",
    "import pandas #Importer données en DataFrame  \n",
    "from sklearn.model_selection import train_test_split #Selection abstract pour corpus d’apprentissage  \n",
    "from sklearn.feature_extraction.text import CountVectorizer #Construction matrice pour apprentissage\n",
    "from sklearn.linear_model import LogisticRegression #Régression logistique\n",
    "from sklearn import metrics #Matrice de confusion\n",
    "import pandas as pd\n",
    "\n",
    "# Lancer le programme avec l'ensemble des fonctions\n",
    "%run \"P:\\SIEGE\\FONDATION\\DOCUMENTS COMMUNS\\Transferts\\Analyse de textes\\Programmes\\Fonctions.ipynb\"\n",
    "\n",
    "\n",
    "\"\"\"Import de nos 3 fichiers, dans l'ordre\"\"\"\n",
    "\n",
    "os.chdir(r\"P:\\SIEGE\\FONDATION\\DOCUMENTS COMMUNS\\Transferts\\Analyse de textes\")\n",
    "abstract_embase=import_zot('Zot_Embase_1.txt')\n",
    "abstract_coch=import_coch('Cochrane_2.txt')\n",
    "abstract_pub=import_zot('Zot_Pubmed_3.txt')\n",
    "\n",
    "#Création d'une liste d'abstract total\n",
    "abstract_tot=abstract_embase+abstract_coch+abstract_pub\n",
    "\n",
    "#A voir après si on  a le temps de faire cette correction\n",
    "#abstract_tot.replace(\"cost effectiveness\", \"cost-effectiveness\")"
   ]
  },
  {
   "cell_type": "code",
   "execution_count": 2,
   "metadata": {},
   "outputs": [],
   "source": [
    "#On applique la fonction à notre liste d'abstract, et on split en mots\n",
    "doc_clean = [clean(doc).split() for doc in abstract_tot]      \n"
   ]
  },
  {
   "cell_type": "code",
   "execution_count": 5,
   "metadata": {},
   "outputs": [
    {
     "data": {
      "text/plain": [
       "2488"
      ]
     },
     "execution_count": 5,
     "metadata": {},
     "output_type": "execute_result"
    }
   ],
   "source": [
    "#Import du dictionnaire UK/US\n",
    "dic_uk_us = pd.read_excel (r'P:\\SIEGE\\FONDATION\\DOCUMENTS COMMUNS\\Transferts\\Analyse de textes\\dic_uk_us.xlsx')\n",
    "# On transforme la première colonne en liste\n",
    "liste_uk=dic_uk_us['UK'].values.tolist()\n",
    "liste_us=dic_uk_us['US'].values.tolist()\n",
    "\n",
    "#On ne garde que l'orthographique britannique pour homogénéiser\n",
    "doc_clean_bis=[[liste_uk[liste_us.index(mot)] if mot in liste_us else mot for mot in a ] for a in doc_clean]\n",
    "\n",
    "#Uniformisation de l'orthographe de cost-effectiveness - A VOIR SI ON A LE TEMPS\n",
    "#doc_clean_tiret=[[mot.replace(\"costeffectiveness\",\"cost effectiveness\") for mot in a] for a in doc_clean_bis]\n",
    "#doc_clean_tiret2=[[mot.replace(\"cost-effectiveness\",\"cost effectiveness\") for mot in a] for a in doc_clean_tiret]\n",
    "\n",
    "# On nettoie de nouveau des mots qui semblent inopportuns pour la suite des analyses\n",
    "motsARetirer = ['background','purpose','p','n','per','also','mm','ci','thus','however','http','ii','iii','et','al','se','cc','email','eo','01','02','03','04','05','06','07','08','09']\n",
    "doc_clean_nettoye = []\n",
    "\n",
    "for sous_tableau in doc_clean_bis:\n",
    "    tableau_nettoye = [mot for mot in sous_tableau if not mot in motsARetirer] \n",
    "    doc_clean_nettoye.append(tableau_nettoye)\n",
    "\n",
    "# rassembler tous les mots d'un même abstract\n",
    "doc_clean2=[]\n",
    "for element in doc_clean_nettoye: #changer en doc_clean_nettoye_2 : si chiffres supprimés\n",
    "    mot_1=\" \".join(element)\n",
    "    doc_clean2.append(mot_1)\n",
    "#print(mots_nettoyes[0:1])    \n",
    "\n",
    "#Création d'une liste avec les identifiants allant de 1 à 3211\n",
    "ident=[str(a) for a in range(1,3212,1)]\n",
    "\n",
    "#On crée une liste avec des couples clé/abstract que l'on transforme ensuite en dictionnaire    \n",
    "t=[]\n",
    "for i in range(0,3211):\n",
    "    t.append([ident[i],doc_clean2[i]])\n",
    "    \n",
    "# Création du dictionnaire\n",
    "dict_abs=dict(t)\n",
    "type(dict_abs)\n",
    "\n",
    "# Importer le fichier xlsx avec les identifiants à conserver \n",
    "\n",
    "id_excel = pd.read_excel (r'P:\\SIEGE\\FONDATION\\DOCUMENTS COMMUNS\\Transferts\\Analyse de textes\\Identifiants_a_importer.xlsx', sheet_name='Second écrémage')\n",
    "#print (id_excel.iloc[:9])\n",
    "\n",
    "# On trie en fonction de l'identifiant 1\n",
    "id_excel=id_excel.sort_values('Identifiant_1')\n",
    "\n",
    "# On transforme la première colonne en liste\n",
    "liste_ident=id_excel['Identifiant_1'].values.tolist()\n",
    "\n",
    "# On transforme en str\n",
    "liste_ident=[str(i) for i in liste_ident] \n",
    "#print(liste_ident)\n",
    "\n",
    "\n",
    "# Eliminer les doublons\n",
    "article_conserve = {k: dict_abs[k] for k in liste_ident if k in dict_abs}\n",
    "\n",
    "# Transformation du dictionnaire en dataframe\n",
    "base_articles=pd.DataFrame(list(article_conserve.items()), columns=['Identifiant_1', 'Abstract'])\n",
    "\n",
    "# On change le format de la colonne binaire 0/1 et on la fusionne à la base des articles (sans doublons) \n",
    "id_excel.Identifiant_1=[str(i) for i in id_excel.Identifiant_1] \n",
    "articles_vf=pd.merge(base_articles, id_excel, on=['Identifiant_1']) \n",
    "\n",
    "# Supprimer les articles qui ont des abstract manquants\n",
    "articles_vf=articles_vf[articles_vf.Abstract != 'abstract absent']\n",
    "len(articles_vf) \n"
   ]
  },
  {
   "cell_type": "code",
   "execution_count": null,
   "metadata": {},
   "outputs": [],
   "source": []
  }
 ],
 "metadata": {
  "kernelspec": {
   "display_name": "Python 3",
   "language": "python",
   "name": "python3"
  },
  "language_info": {
   "codemirror_mode": {
    "name": "ipython",
    "version": 3
   },
   "file_extension": ".py",
   "mimetype": "text/x-python",
   "name": "python",
   "nbconvert_exporter": "python",
   "pygments_lexer": "ipython3",
   "version": "3.7.3"
  }
 },
 "nbformat": 4,
 "nbformat_minor": 2
}
