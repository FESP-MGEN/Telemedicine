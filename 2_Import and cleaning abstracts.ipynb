{
 "cells": [
  {
   "cell_type": "code",
   "execution_count": 10,
   "metadata": {},
   "outputs": [],
   "source": [
    "#####################################################################################################\n",
    "#####################################################################################################\n",
    "# 2_Import and cleaning abstracts\n",
    "#####################################################################################################\n",
    "#####################################################################################################"
   ]
  },
  {
   "cell_type": "code",
   "execution_count": 11,
   "metadata": {},
   "outputs": [],
   "source": [
    "import os # File management\n",
    "import nltk # Text management\n",
    "from nltk.corpus import stopwords # Stopwords\n",
    "import numpy # Mathematical operations\n",
    "import matplotlib # Graphics\n",
    "import string # Character chain management\n",
    "from nltk.tokenize import word_tokenize\n",
    "import pandas # Import data into DataFrame  \n",
    "from sklearn.model_selection import train_test_split # Selection abstract for learning corpus  \n",
    "from sklearn.feature_extraction.text import CountVectorizer # Matrix construction for learning\n",
    "from sklearn.linear_model import LogisticRegression # Logistic regression\n",
    "from sklearn import metrics # Confusion matrix\n",
    "import pandas as pd\n",
    "\n",
    "# Launch the program with all the functions\n",
    "%run \"C:\\\\Users\\\\....\\\\Program\\\\1_Functions.ipynb\"\n",
    "\n",
    "# Import of our 3 files, in a precise order\n",
    "os.chdir(r\"C:\\\\Users\\\\....\\\\Database\\\\\")\n",
    "abstract_embase=import_zot('Zot_Embase_1.txt')\n",
    "abstract_coch=import_coch('Cochrane_2.txt')\n",
    "abstract_pub=import_zot('Zot_Pubmed_3.txt')\n",
    "\n",
    "# Creation of a complete abstract list\n",
    "abstract_tot=abstract_embase+abstract_coch+abstract_pub\n"
   ]
  },
  {
   "cell_type": "code",
   "execution_count": 12,
   "metadata": {},
   "outputs": [],
   "source": [
    "# We apply the function to our abstract list and we split it into words\n",
    "doc_clean = [clean(doc).split() for doc in abstract_tot]      \n"
   ]
  },
  {
   "cell_type": "code",
   "execution_count": 13,
   "metadata": {},
   "outputs": [
    {
     "data": {
      "text/plain": [
       "2488"
      ]
     },
     "execution_count": 13,
     "metadata": {},
     "output_type": "execute_result"
    }
   ],
   "source": [
    "# Import from UK / US dictionary\n",
    "dic_uk_us = pd.read_excel (r'C:\\\\Users\\\\....\\\\Database\\\\dic_uk_us.xlsx')\n",
    "\n",
    "# We transform the first column into a list\n",
    "liste_uk=dic_uk_us['UK'].values.tolist()\n",
    "liste_us=dic_uk_us['US'].values.tolist()\n",
    "\n",
    "# We only keep the British orthography to homogenize\n",
    "doc_clean_bis=[[liste_uk[liste_us.index(mot)] if mot in liste_us else mot for mot in a ] for a in doc_clean]\n",
    "\n",
    "# We again clean up words that seem useless for further analysis\n",
    "motsARetirer = ['background','icer','icers','purpose','p','n','per','also','mm','ci','thus','however','http','ii','iii','et','al','se','cc','email','eo','01','02','03','04','05','06','07','08','09']\n",
    "doc_clean_nettoye = []\n",
    "\n",
    "for sous_tableau in doc_clean_bis:\n",
    "    tableau_nettoye = [mot for mot in sous_tableau if not mot in motsARetirer] \n",
    "    doc_clean_nettoye.append(tableau_nettoye)\n",
    "\n",
    "# Gather all the words of the same abstract\n",
    "doc_clean2=[]\n",
    "for element in doc_clean_nettoye:\n",
    "    mot_1=\" \".join(element)\n",
    "    doc_clean2.append(mot_1)\n",
    "\n",
    "# Creation of a list with identifiers ranging from 1 to 3211\n",
    "ident=[str(a) for a in range(1,3212,1)]\n",
    "\n",
    "# We create a list with key / abstract pairs which we then transform into a dictionary\n",
    "t=[]\n",
    "for i in range(0,3211):\n",
    "    t.append([ident[i],doc_clean2[i]])\n",
    "    \n",
    "# Dictionary creation\n",
    "dict_abs=dict(t)\n",
    "type(dict_abs)\n",
    "\n",
    "# Import the xlsx file with the identifiers to keep\n",
    "id_excel = pd.read_excel (r'C:\\\\Users\\\\....\\\\Database\\\\Identifier_to_import.xlsx', sheet_name='Second écrémage')\n",
    "\n",
    "# We sort according to the identifier 1\n",
    "id_excel=id_excel.sort_values('Identifier_1')\n",
    "\n",
    "# We transform the first column into a list\n",
    "liste_ident=id_excel['Identifier_1'].values.tolist()\n",
    "\n",
    "# We transform into str\n",
    "liste_ident=[str(i) for i in liste_ident] \n",
    "\n",
    "# Remove duplicates\n",
    "article_conserve = {k: dict_abs[k] for k in liste_ident if k in dict_abs}\n",
    "\n",
    "# Dictionary to dataframe transformation\n",
    "base_articles=pd.DataFrame(list(article_conserve.items()), columns=['Identifier_1', 'Abstract'])\n",
    "\n",
    "# We change the format of the binary column 0/1 and we merge it at the base of the articles (without duplicates) \n",
    "id_excel.Identifier_1=[str(i) for i in id_excel.Identifier_1] \n",
    "articles_vf=pd.merge(base_articles, id_excel, on=['Identifier_1']) \n",
    "\n",
    "# Delete articles with missing abstracts texts\n",
    "articles_vf=articles_vf[articles_vf.Abstract != 'absent abstract']\n",
    "len(articles_vf) \n"
   ]
  },
  {
   "cell_type": "code",
   "execution_count": null,
   "metadata": {},
   "outputs": [],
   "source": []
  }
 ],
 "metadata": {
  "kernelspec": {
   "display_name": "Python 3",
   "language": "python",
   "name": "python3"
  },
  "language_info": {
   "codemirror_mode": {
    "name": "ipython",
    "version": 3
   },
   "file_extension": ".py",
   "mimetype": "text/x-python",
   "name": "python",
   "nbconvert_exporter": "python",
   "pygments_lexer": "ipython3",
   "version": "3.7.4"
  }
 },
 "nbformat": 4,
 "nbformat_minor": 2
}
